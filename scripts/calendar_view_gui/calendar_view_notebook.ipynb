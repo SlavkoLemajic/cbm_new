{
 "cells": [
  {
   "cell_type": "markdown",
   "metadata": {},
   "source": [
    "### Define default parameters and lauch the chip extract processing GUI"
   ]
  },
  {
   "cell_type": "code",
   "execution_count": 3,
   "metadata": {},
   "outputs": [
    {
     "data": {
      "application/vnd.jupyter.widget-view+json": {
       "model_id": "dcb3575c8f674fc79ee55037cd0032ee",
       "version_major": 2,
       "version_minor": 0
      },
      "text/plain": [
       "VBox(children=(HBox(children=(HTML(value='<h1>Run calendar view script</h1'),)), VBox(children=(Tab(children=(…"
      ]
     },
     "metadata": {},
     "output_type": "display_data"
    }
   ],
   "source": [
    "import calendar_view_gui\n",
    "import importlib\n",
    "importlib.reload(calendar_view_gui)\n",
    "\n",
    "year = 2022\n",
    "MS = \"IT\"\n",
    "default_vector = \"parcels.geojson\"\n",
    "default_out_tif_folder_base = \"./output\"\n",
    "# Provide your credentials to access RESTful services\n",
    "# contact: Konstantinos.ANASTASAKIS@ext.ec.europa.eu\n",
    "api_user, api_pass = '', ''\n",
    "\n",
    "# Create output folder if it does not exist already\n",
    "if not os.path.exists(default_out_tif_folder_base):\n",
    "    os.makedirs(default_out_tif_folder_base)\n",
    "\n",
    "create_psri = False\n",
    "create_ndwi = False\n",
    "ptype = \"\"\n",
    "    \n",
    "gui = calendar_view_gui.calendar_view_gui(\n",
    "default_search_window_start_date = str(year) +\"-01-01\",  \n",
    "default_search_window_end_date = str(year) +\"-12-31\",  \n",
    "default_index_graph_start_date = str(year) +\"-01-01\",\n",
    "default_index_graph_end_date = str(year) +\"-12-31\",\n",
    "default_shapefile = default_vector,\n",
    "default_out_tif_folder_base = default_out_tif_folder_base,\n",
    "MS = MS,\n",
    "year = str(year),\n",
    "api_user = api_user,\n",
    "api_pass = api_pass,\n",
    "ptype = ptype,\n",
    "create_psri = create_psri,\n",
    "create_ndwi = create_ndwi)\n",
    "\n",
    "gui"
   ]
  },
  {
   "cell_type": "code",
   "execution_count": null,
   "metadata": {},
   "outputs": [],
   "source": []
  }
 ],
 "metadata": {
  "kernelspec": {
   "display_name": "Python 3 (ipykernel)",
   "language": "python",
   "name": "python3"
  },
  "language_info": {
   "codemirror_mode": {
    "name": "ipython",
    "version": 3
   },
   "file_extension": ".py",
   "mimetype": "text/x-python",
   "name": "python",
   "nbconvert_exporter": "python",
   "pygments_lexer": "ipython3",
   "version": "3.9.10"
  }
 },
 "nbformat": 4,
 "nbformat_minor": 4
}
