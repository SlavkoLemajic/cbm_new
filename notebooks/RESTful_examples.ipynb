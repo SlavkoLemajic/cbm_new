{
 "cells": [
  {
   "cell_type": "markdown",
   "id": "f22ddaaa-322f-4ef5-a841-8d38dc7ac096",
   "metadata": {},
   "source": [
    "<img src='https://github.com/ec-jrc/cbm/blob/main/docs/img/eu_science_hub.png?raw=true' alt=\"EC JRC\" width=\"1000\">\n",
    "\n",
    "\n",
    "# JRC RESTful service example\n",
    "\n",
    "This Jupyter Notebook provides examples on how to retrieve and view data from the JRC RESTful API.\n",
    "\n",
    "\n",
    "This file is part of CbM (https://github.com/ec-jrc/cbm). All code examples are under the open source License [3-Clause BSD](https://opensource.org/licenses/BSD-3-Clause)\n",
    "\n",
    "For more information See the documentation at: https://jrc-cbm.readthedocs.io\n",
    "\n",
    "\n",
    "---\n",
    "## Get data with python requests\n",
    "\n",
    "Use the python library [```requests```](https://pypi.org/project/requests/) to manually configure and make requests.\n",
    "The https://cap.users.creodias.eu/query/info requests provides information and requests examples in json format."
   ]
  },
  {
   "cell_type": "code",
   "execution_count": null,
   "id": "8ebc2ff9-ad08-46cb-8036-250e05e6df35",
   "metadata": {},
   "outputs": [],
   "source": [
    "# RESTful API Requests example with the use of requests library\n",
    "# The '/query/info' requests will return information about the server and the available data.\n",
    "import json\n",
    "import requests\n",
    "\n",
    "api_url  = 'https://cap.users.creodias.eu'\n",
    "api_user = 'USERNAME'\n",
    "api_pass = 'PASSWORD'\n",
    "\n",
    "requrl = \"{}/query/info\"\n",
    "response = requests.get(requrl.format(api_url),\n",
    "                        auth=(api_user, api_pass))\n",
    "\n",
    "print(json.dumps(json.loads(response.content), indent=1))"
   ]
  },
  {
   "cell_type": "markdown",
   "id": "142d8324-ec4b-454b-a391-52dc090df9f6",
   "metadata": {},
   "source": [
    "---\n",
    "\n",
    "## Get and view data with the python tool 'cbm' \n",
    "Python ```cbm``` is a tool to easily explore the data and check individual parcels or small set of parcels.\n",
    "\n",
    "See the documentation for more details at: https://jrc-cbm.readthedocs.io/en/latest/cbm_overview.html"
   ]
  },
  {
   "cell_type": "code",
   "execution_count": null,
   "id": "1e7059fe-8233-4365-b52b-6bca0c97656b",
   "metadata": {},
   "outputs": [],
   "source": [
    "# Install or upgrade cbm (Restart of the Notebook kerner may be required to take effect)\n",
    "!pip install cbm --upgrade"
   ]
  },
  {
   "cell_type": "code",
   "execution_count": null,
   "id": "59b7b257-c475-4c0a-8eda-0ad0d48b8f8a",
   "metadata": {},
   "outputs": [],
   "source": [
    "import cbm\n",
    "print(\"Python cbm version: \", cbm.__version__)"
   ]
  },
  {
   "cell_type": "code",
   "execution_count": null,
   "id": "ce9b437c-a09d-479c-9fa0-67eea0dd8477",
   "metadata": {},
   "outputs": [],
   "source": [
    "cbm.set_api_account(api_url, api_user, api_pass) # set and store your credentials."
   ]
  },
  {
   "cell_type": "markdown",
   "id": "8e8f98a0-fb2a-449d-b8ca-18e40ea66730",
   "metadata": {},
   "source": [
    "---\n",
    "## Show data for a selected parcel\n",
    "- Provide general information for the selected parcel"
   ]
  },
  {
   "cell_type": "code",
   "execution_count": null,
   "id": "db549181-61ce-4f5a-898f-1bdd78a485dd",
   "metadata": {},
   "outputs": [],
   "source": [
    "# Select parcel\n",
    "import cbm\n",
    "aoi   = 'MS'        # Area of interest (str)\n",
    "year  = '2020'      # Year of the parcels dataset (int)\n",
    "pid   = '123456'    # Parcel id (int)\n",
    "ptype = ''          # Parcel type (Optional), use only in case there are separate parcel datasets for\n",
    "                    #   the same year dedicated to different type of analyses or different regions),\n",
    "                    #   to see the available parcel types go to: https://cap.users.creodias.eu/query/info\n",
    "\n",
    "cbm.show.parcel_info.by_pid(aoi, year, pid, ptype)"
   ]
  },
  {
   "cell_type": "markdown",
   "id": "86d67f4b-b609-418c-bd48-e643b44e64ef",
   "metadata": {},
   "source": [
    "- Show parcel backround images. For some member states or regions orthophotos are provided as well."
   ]
  },
  {
   "cell_type": "code",
   "execution_count": null,
   "id": "6f098fbe-18c1-4b3e-82e1-05da875c2868",
   "metadata": {},
   "outputs": [],
   "source": [
    "# To see the available orthophotos go to: https://cap.users.creodias.eu/query/info\n",
    "cbm.show.background.by_pid(\n",
    "    aoi=aoi,\n",
    "    year=year,\n",
    "    pid=pid,\n",
    "    chipsize=256,  # Pixels\n",
    "    extend=500.0,  # Meters\n",
    "    tms=['google', 'bing', 'ags', 'osm'],\n",
    "    ptype=ptype\n",
    ")\n"
   ]
  },
  {
   "cell_type": "markdown",
   "id": "78e88f9c-36f6-47c6-9903-9ef48cbaa8fc",
   "metadata": {},
   "source": [
    "### Sentinel 2 images\n",
    "- Show Sentinel images in a grid: true color."
   ]
  },
  {
   "cell_type": "code",
   "execution_count": null,
   "id": "4d12ad24-e7ec-4d08-9c10-2800e328e164",
   "metadata": {},
   "outputs": [],
   "source": [
    "# This takes some time to download the images, do not use this for large amount of parcels or long time periods.\n",
    "chipsize = 512\n",
    "start_date = '2020-04-05'\n",
    "end_date = '2020-04-25'\n",
    "imgtype = 'true color' # imgtype options:\n",
    "#                            - Multi band, e.g.:['B03', 'B04', 'B08']\n",
    "#                            - Single band, e.g: 'B08'\n",
    "#                            - Or 'true color' and 'ndvi'\n",
    "\n",
    "# # Other default options:\n",
    "# clean_history = False # Delete the previous chip_images folder\n",
    "# debug = False         # Show text output of the procedures\n",
    "# columns = 4           # Number of columns of the grid\n",
    "# show_parcel = True    # Show or not the parcel polygon\n",
    "# percentile = [2, 98]  # Color levels percentage\n",
    "# cmap = 'RdYlGn_r'     # Color map only for NDVI\n",
    "\n",
    "cbm.show.chip_images.grid(aoi, year, pid, start_date, end_date, imgtype, chipsize, ptype=ptype)"
   ]
  },
  {
   "cell_type": "markdown",
   "id": "1538b908-2c23-42ae-a3d1-da7591b60d71",
   "metadata": {},
   "source": [
    "- Show Sentinel images in a grid: NDVI"
   ]
  },
  {
   "cell_type": "code",
   "execution_count": null,
   "id": "a7bfa1d4-5f25-4e8e-a895-2d85e80ee0d8",
   "metadata": {},
   "outputs": [],
   "source": [
    "# Show NDVI images in a grid.\n",
    "imgtype = 'ndvi'\n",
    "cbm.show.chip_images.grid(aoi, year, pid, start_date, end_date, imgtype, chipsize, ptype=ptype)"
   ]
  },
  {
   "cell_type": "markdown",
   "id": "8f7a01d3-e7e3-4d7a-a1db-8e381b43f0d4",
   "metadata": {},
   "source": [
    "### Sentinel 1/2 signatures time series pllots\n",
    "- Sentinel 2 band profiles for the selected parcel."
   ]
  },
  {
   "cell_type": "code",
   "execution_count": null,
   "id": "2ee8a981-a4ff-4212-9e8e-0e63d9734a58",
   "metadata": {},
   "outputs": [],
   "source": [
    "cbm.show.time_series.s2(aoi, year, pid, bands=['B02', 'B03', 'B04', 'B08'], scl='3_8_9_10_11', ptype=ptype)"
   ]
  },
  {
   "cell_type": "markdown",
   "id": "4ce701fd-3819-41bb-925c-1928a765360c",
   "metadata": {},
   "source": [
    "- NDVI profile."
   ]
  },
  {
   "cell_type": "code",
   "execution_count": null,
   "id": "cd981b21-6237-4091-af2d-000754e6dbd9",
   "metadata": {},
   "outputs": [],
   "source": [
    "cbm.show.time_series.ndvi(aoi, year, pid, ptype=ptype)"
   ]
  },
  {
   "cell_type": "markdown",
   "id": "b05d9d8e-d7d6-468a-9a35-1d2886ab0937",
   "metadata": {},
   "source": [
    "- Sentinel-1 Backscattering coefficient."
   ]
  },
  {
   "cell_type": "code",
   "execution_count": null,
   "id": "91475e18-9756-4f96-abb0-fcd3a50721e7",
   "metadata": {},
   "outputs": [],
   "source": [
    "cbm.show.time_series.s1(aoi, year, pid, 'bs', ptype)"
   ]
  },
  {
   "cell_type": "markdown",
   "id": "cbdef22f-8277-4438-b167-92dafe4c886f",
   "metadata": {},
   "source": [
    "- Sentinel-1 6 day coherence."
   ]
  },
  {
   "cell_type": "code",
   "execution_count": null,
   "id": "cd69ef4d-6a9e-49f8-b0e6-a9f6821220f3",
   "metadata": {},
   "outputs": [],
   "source": [
    "cbm.show.time_series.s1(aoi, year, pid, 'c6', ptype)"
   ]
  },
  {
   "cell_type": "markdown",
   "id": "cafc7c4b-462d-4a35-90fd-91f765600ee3",
   "metadata": {},
   "source": [
    "---\n",
    "\n",
    "### Compare neighbour parcels with same crop type"
   ]
  },
  {
   "cell_type": "markdown",
   "id": "920f6d8c-2be5-4fbd-ba73-e8de691075c1",
   "metadata": {},
   "source": [
    "- List of parcels with the same crop type within a given distance."
   ]
  },
  {
   "cell_type": "code",
   "execution_count": null,
   "id": "407acb82-8300-43a2-a164-1c01a3808402",
   "metadata": {},
   "outputs": [],
   "source": [
    "# Find parcels with the same crop type within a given distance.\n",
    "parcel_peers = cbm.get.parcels_list.peers(aoi, year, pid, distance=1000, maxPeers=5, ptype=ptype)\n",
    "parcel_peers"
   ]
  },
  {
   "cell_type": "markdown",
   "id": "5cebb171-df09-43f1-8f49-80206feb6ca6",
   "metadata": {},
   "source": [
    "- NDVI profile plots of the parcels peers."
   ]
  },
  {
   "cell_type": "code",
   "execution_count": null,
   "id": "10a3e16d-df64-4865-a35d-5e69b5808051",
   "metadata": {},
   "outputs": [],
   "source": [
    "cbm.show.time_series.ndvi(aoi, year, parcel_peers['pids'], ptype=ptype)"
   ]
  },
  {
   "cell_type": "markdown",
   "id": "11548c0a-d8e2-43a2-95be-ed6f9b3d7fc1",
   "metadata": {},
   "source": [
    "- Compare the profiles of the selected parcel with its parcel peers."
   ]
  },
  {
   "cell_type": "code",
   "execution_count": null,
   "id": "caa1b4e0-6b73-438d-8370-0910f9bb6c77",
   "metadata": {},
   "outputs": [],
   "source": [
    "cbm.show.time_series.ndvi(aoi, year, [pid]+parcel_peers['pids'], ptype=ptype, max_line_plots=1)"
   ]
  },
  {
   "cell_type": "markdown",
   "id": "adb08b2a-60d8-4050-80d7-0eabc65226ea",
   "metadata": {},
   "source": [
    "- Sentinel-1 Backscattering coefficient plots with its parcel peers."
   ]
  },
  {
   "cell_type": "code",
   "execution_count": null,
   "id": "c03ab1ca-ea85-4fec-ad64-22d45032ea86",
   "metadata": {},
   "outputs": [],
   "source": [
    "cbm.show.time_series.s1(aoi, year, [pid]+parcel_peers['pids'], 'bs', ptype, max_line_plots=1)"
   ]
  },
  {
   "cell_type": "markdown",
   "id": "3b826598-2df8-4ec6-8cd8-a7f494179ea0",
   "metadata": {},
   "source": [
    "---\n",
    "\n",
    "## Exporting results\n",
    "\n",
    "There are two methods to generate reports\n",
    "- __from_notebook()__: convert a notbook to pdf (easy but with limited customization)\n",
    "- __with_pdfme()__: generate pdf with the pdfme module (complex but more customizable)\n",
    "\n",
    "### From notebook\n",
    "\n",
    "The easiest method to create reports is with the __cbm module__ ```from_notebook```. It will generate a pdf report with all the outputs of the cells, provides the option to include the code cells as well.\n",
    "\n",
    "__Note:__ This function generates a pdf document from the saved file therefore the __Notebook must be saved__ before running the function to get the latest changes.\n",
    "```python\n",
    "import cbm\n",
    "cbm.reports.export_to_pdf.from_notebook()\n",
    "```\n",
    "\n",
    "Parameters:\n",
    "- with_code: show code cels or not ```True``` or ```False```, (default ```False```)\n",
    "- nb_fname: Notebook name, the notebook to be converted, if ```None``` it will check if the script is running in a notebook and will try to get its name (default ```None```)\n",
    "\n",
    "    ```e.g.: cbm.reports.export_to_pdf.from_notebook(True, 'MyNotebook.ipynb')```\n",
    "\n",
    "\n",
    "#### With pdfme\n",
    "\n",
    "```python\n",
    "notes = {\"general\": \"My notes\", ...}\n",
    "params = {\"textsize\": 12, ...}\n",
    "cbm.reports.export_to_pdf.with_pdfme(aoi, year, pid, ptype, notes, params)\n",
    "```"
   ]
  },
  {
   "cell_type": "code",
   "execution_count": null,
   "id": "4f78af01-e539-483a-9d11-a4c815fd8786",
   "metadata": {},
   "outputs": [],
   "source": [
    "# Exporting results from notebook\n",
    "import cbm\n",
    "cbm.reports.export_to_pdf.from_notebook()"
   ]
  },
  {
   "cell_type": "markdown",
   "id": "77d6ccd8-3047-4b3d-924e-abfc7f2f45fc",
   "metadata": {},
   "source": [
    "---\n",
    "# Jupyter notebooks interactive widgets for CbM **'ipycbm'**\n",
    "\n",
    "The ipycbm subpackage of cbm python library provides an easy way to get and view data with the use of python widgets for notebooks 'ipywidgets' also known as jupyter-widgets, the interactive HTML widgets for Jupyter notebooks and the IPython kernel.\n",
    "For more details see see the [\"CbB overview\"](https://jrc-cbm.readthedocs.io/en/latest/cbm_overview.html) chapter of the documentation.\n",
    "\n",
    "__Note:__ the ```ipycbm``` module is interactive therefore not suitable for generating reports from notebooks (_from_notebook()_), ipycbm will provide options to generate customizable reports within interactive widgets (under development), please follow the developments at https://github.com/ec-jrc/cbm.\n",
    "\n",
    "To see the interactive widget run the main ipycbm widget with:\n",
    "```python\n",
    "from cbm import ipycbm\n",
    "ipycbm.view()\n",
    "```"
   ]
  },
  {
   "cell_type": "code",
   "execution_count": null,
   "id": "f3afb114-5421-4411-9ef1-4b6555f97ab0",
   "metadata": {},
   "outputs": [],
   "source": [
    "from cbm import ipycbm # Import the python library ipycbm\n",
    "ipycbm.view()          # Display the data with easy selectable predefined view options."
   ]
  },
  {
   "cell_type": "markdown",
   "id": "7a6f56eb-a14f-41c0-8a0c-33e3abc51e94",
   "metadata": {},
   "source": [
    "---\n",
    "\n",
    "    Copyright : 2022 European Commission, Joint Research Centre"
   ]
  }
 ],
 "metadata": {
  "kernelspec": {
   "display_name": "Python 3",
   "language": "python",
   "name": "python3"
  },
  "language_info": {
   "codemirror_mode": {
    "name": "ipython",
    "version": 3
   },
   "file_extension": ".py",
   "mimetype": "text/x-python",
   "name": "python",
   "nbconvert_exporter": "python",
   "pygments_lexer": "ipython3",
   "version": "3.9.2"
  }
 },
 "nbformat": 4,
 "nbformat_minor": 5
}
